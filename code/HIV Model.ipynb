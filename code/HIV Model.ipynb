{
 "cells": [
  {
   "cell_type": "markdown",
   "metadata": {},
   "source": [
    "# HIV Model\n",
    "Riya, Dhara, Chris\n",
    "\n",
    "10-15-18\n",
    "\n",
    "State: uninfected cells, latent cells, active cells, viron cells\n",
    "\n",
    "System: rates\n",
    "\n",
    "Parameters: initial number of infected cells"
   ]
  },
  {
   "cell_type": "code",
   "execution_count": 12,
   "metadata": {},
   "outputs": [],
   "source": [
    "# Configure Jupyter so figures appear in the notebook\n",
    "%matplotlib inline\n",
    "\n",
    "# Configure Jupyter to display the assigned value after an assignment\n",
    "%config InteractiveShell.ast_node_interactivity='last_expr_or_assign'\n",
    "\n",
    "# import functions from the modsim.py module\n",
    "from modsim import *\n"
   ]
  },
  {
   "cell_type": "markdown",
   "metadata": {},
   "source": [
    "### Define State for the initial condition\n",
    "- Uninfected Cells, Latent Cells, Active Cells, Viron Cells"
   ]
  },
  {
   "cell_type": "code",
   "execution_count": 13,
   "metadata": {},
   "outputs": [
    {
     "data": {
      "text/html": [
       "<div>\n",
       "<style scoped>\n",
       "    .dataframe tbody tr th:only-of-type {\n",
       "        vertical-align: middle;\n",
       "    }\n",
       "\n",
       "    .dataframe tbody tr th {\n",
       "        vertical-align: top;\n",
       "    }\n",
       "\n",
       "    .dataframe thead th {\n",
       "        text-align: right;\n",
       "    }\n",
       "</style>\n",
       "<table border=\"1\" class=\"dataframe\">\n",
       "  <thead>\n",
       "    <tr style=\"text-align: right;\">\n",
       "      <th></th>\n",
       "      <th>values</th>\n",
       "    </tr>\n",
       "  </thead>\n",
       "  <tbody>\n",
       "    <tr>\n",
       "      <th>uninf</th>\n",
       "      <td>2.000000e+02</td>\n",
       "    </tr>\n",
       "    <tr>\n",
       "      <th>lat</th>\n",
       "      <td>0.000000e+00</td>\n",
       "    </tr>\n",
       "    <tr>\n",
       "      <th>act</th>\n",
       "      <td>0.000000e+00</td>\n",
       "    </tr>\n",
       "    <tr>\n",
       "      <th>vir</th>\n",
       "      <td>4.000000e-07</td>\n",
       "    </tr>\n",
       "  </tbody>\n",
       "</table>\n",
       "</div>"
      ],
      "text/plain": [
       "uninf    2.000000e+02\n",
       "lat      0.000000e+00\n",
       "act      0.000000e+00\n",
       "vir      4.000000e-07\n",
       "dtype: float64"
      ]
     },
     "execution_count": 13,
     "metadata": {},
     "output_type": "execute_result"
    }
   ],
   "source": [
    "init = State(uninf = 200, lat = 0, act = 0, vir = 4e-7)"
   ]
  },
  {
   "cell_type": "markdown",
   "metadata": {},
   "source": [
    "### Define System (Rates)"
   ]
  },
  {
   "cell_type": "code",
   "execution_count": 14,
   "metadata": {},
   "outputs": [
    {
     "data": {
      "text/html": [
       "<div>\n",
       "<style scoped>\n",
       "    .dataframe tbody tr th:only-of-type {\n",
       "        vertical-align: middle;\n",
       "    }\n",
       "\n",
       "    .dataframe tbody tr th {\n",
       "        vertical-align: top;\n",
       "    }\n",
       "\n",
       "    .dataframe thead th {\n",
       "        text-align: right;\n",
       "    }\n",
       "</style>\n",
       "<table border=\"1\" class=\"dataframe\">\n",
       "  <thead>\n",
       "    <tr style=\"text-align: right;\">\n",
       "      <th></th>\n",
       "      <th>values</th>\n",
       "    </tr>\n",
       "  </thead>\n",
       "  <tbody>\n",
       "    <tr>\n",
       "      <th>gammat</th>\n",
       "      <td>0.27200</td>\n",
       "    </tr>\n",
       "    <tr>\n",
       "      <th>sigma</th>\n",
       "      <td>2.00000</td>\n",
       "    </tr>\n",
       "    <tr>\n",
       "      <th>beta</th>\n",
       "      <td>0.00027</td>\n",
       "    </tr>\n",
       "    <tr>\n",
       "      <th>alpha</th>\n",
       "      <td>0.03600</td>\n",
       "    </tr>\n",
       "    <tr>\n",
       "      <th>mu</th>\n",
       "      <td>0.00136</td>\n",
       "    </tr>\n",
       "    <tr>\n",
       "      <th>pi</th>\n",
       "      <td>100.00000</td>\n",
       "    </tr>\n",
       "    <tr>\n",
       "      <th>delta</th>\n",
       "      <td>0.33000</td>\n",
       "    </tr>\n",
       "    <tr>\n",
       "      <th>rho</th>\n",
       "      <td>0.10000</td>\n",
       "    </tr>\n",
       "    <tr>\n",
       "      <th>t0</th>\n",
       "      <td>0.00000</td>\n",
       "    </tr>\n",
       "    <tr>\n",
       "      <th>t_end</th>\n",
       "      <td>120.00000</td>\n",
       "    </tr>\n",
       "  </tbody>\n",
       "</table>\n",
       "</div>"
      ],
      "text/plain": [
       "gammat      0.27200\n",
       "sigma       2.00000\n",
       "beta        0.00027\n",
       "alpha       0.03600\n",
       "mu          0.00136\n",
       "pi        100.00000\n",
       "delta       0.33000\n",
       "rho         0.10000\n",
       "t0          0.00000\n",
       "t_end     120.00000\n",
       "dtype: float64"
      ]
     },
     "execution_count": 14,
     "metadata": {},
     "output_type": "execute_result"
    }
   ],
   "source": [
    "gammat = 1.36*0.2 # Tau * Gamma\n",
    "\n",
    "system = System ( gammat = gammat, \n",
    "                  sigma = 2, \n",
    "                  beta = 0.00027, \n",
    "                  alpha = 0.036, \n",
    "                  mu = .00136, \n",
    "                  pi = 100, \n",
    "                  delta = 0.33,\n",
    "                  rho = 0.1,\n",
    "                  t0 = 0, \n",
    "                  t_end = 120)"
   ]
  },
  {
   "cell_type": "markdown",
   "metadata": {},
   "source": [
    "## Update Function"
   ]
  },
  {
   "cell_type": "code",
   "execution_count": 15,
   "metadata": {},
   "outputs": [],
   "source": [
    "def update_func2(state, t, system): \n",
    "    \n",
    "    \n",
    "    #FLOW IN\n",
    "    uninf = system.gammat*state.uninf\n",
    "    lat = system.betaV*state.vir * state.uninf * system.rho\n",
    "    act1 = system.alpha*state.lat\n",
    "    act2 = system.delta*state.uninf\n",
    "    act = act1+act2\n",
    "    vir = system.pi*state.act\n",
    "    \n",
    "    #FLOW OUT\n",
    "    uninf -= system.mu*uninf\n",
    "    lat1 = system.alpha*lat\n",
    "    lat2 = system.mu*lat1\n",
    "    act -= system.delta*act\n",
    "    vir -= system.sigma*vir\n",
    "    \n",
    "    return State(uninf = uninf, lat = lat2, act = act, vir = vir)"
   ]
  },
  {
   "cell_type": "code",
   "execution_count": 16,
   "metadata": {},
   "outputs": [],
   "source": [
    "def update_func(state, t, system): \n",
    "    unpack(system)\n",
    "    R = state.uninf;\n",
    "    L = state.lat;\n",
    "    E = state.act;\n",
    "    V = state.vir;\n",
    "    dt = 0.01\n",
    "    \n",
    "    rChange = (gammat - mu * R - beta * V * R) * dt\n",
    "    lChange = (rho * beta * V * R - mu * L - alpha * L) * dt\n",
    "    eChange = ((1 - rho) * beta * V * R + alpha * L - delta * E) * dt\n",
    "    vChange = (pi * E - sigma * V) * dt\n",
    "    \n",
    "    return State(uninf = rChange + R, lat = lChange + L, act = eChange + E, vir = vChange + V)"
   ]
  },
  {
   "cell_type": "markdown",
   "metadata": {},
   "source": [
    "## Run Simulation"
   ]
  },
  {
   "cell_type": "code",
   "execution_count": 17,
   "metadata": {},
   "outputs": [],
   "source": [
    "def run_simulation(system, update_func, init):\n",
    "    unpack(system)\n",
    "    \n",
    "    frame = TimeFrame(columns=init.index)\n",
    "    frame.row[t0] = init\n",
    "    \n",
    "    for t in linrange(t0, t_end, .01):\n",
    "        frame.row[t+.01] = update_func(frame.row[t], t, system)\n",
    "    \n",
    "    return frame"
   ]
  },
  {
   "cell_type": "markdown",
   "metadata": {},
   "source": [
    "## Plot Results"
   ]
  },
  {
   "cell_type": "code",
   "execution_count": 18,
   "metadata": {},
   "outputs": [],
   "source": [
    "def plot_results(uinf, lat, act, vir):\n",
    "    plot(uinf, '--', label='Uninfected Cells')\n",
    "    plot(lat, '-', label='Latent Cells')\n",
    "    plot(act, '--', label='Uninfected Cells')\n",
    "    plot(vir, '-', label='Virons')\n",
    "    decorate(xlabel='Time (days)',\n",
    "             ylabel='Fraction of Population')"
   ]
  },
  {
   "cell_type": "code",
   "execution_count": 19,
   "metadata": {},
   "outputs": [
    {
     "name": "stdout",
     "output_type": "stream",
     "text": [
      "      uninf           lat           act           vir\n",
      "0.00  200.0  0.000000e+00  0.000000e+00  4.000000e-07\n",
      "0.01  200.0  2.160000e-11  1.944000e-10  3.920000e-07\n",
      "0.02  200.0  4.275993e-11  3.842783e-10  3.843544e-07\n",
      "0.03  200.0  6.349909e-11  5.698218e-10  3.770516e-07\n",
      "0.04  200.0  8.383616e-11  7.512113e-10  3.700804e-07\n"
     ]
    },
    {
     "data": {
      "image/png": "[encoded data removed]",
      "text/plain": [
       "<Figure size 432x288 with 1 Axes>"
      ]
     },
     "metadata": {
      "needs_background": "light"
     },
     "output_type": "display_data"
    }
   ],
   "source": [
    "results = run_simulation(system, update_func, init)\n",
    "print (results.head())\n",
    "plot_results(results.uninf, results.lat, results.act, results.vir )"
   ]
  },
  {
   "cell_type": "code",
   "execution_count": 20,
   "metadata": {},
   "outputs": [
    {
     "data": {
      "text/plain": [
       "[<matplotlib.lines.Line2D at 0x2565bcebac8>]"
      ]
     },
     "execution_count": 20,
     "metadata": {},
     "output_type": "execute_result"
    },
    {
     "data": {
      "image/png": "[encoded data removed]",
      "text/plain": [
       "<Figure size 432x288 with 1 Axes>"
      ]
     },
     "metadata": {
      "needs_background": "light"
     },
     "output_type": "display_data"
    }
   ],
   "source": [
    "plot(results.vir)"
   ]
  },
  {
   "cell_type": "code",
   "execution_count": null,
   "metadata": {},
   "outputs": [],
   "source": []
  },
  {
   "cell_type": "code",
   "execution_count": null,
   "metadata": {},
   "outputs": [],
   "source": []
  }
 ],
 "metadata": {
  "kernelspec": {
   "display_name": "Python 3",
   "language": "python",
   "name": "python3"
  },
  "language_info": {
   "codemirror_mode": {
    "name": "ipython",
    "version": 3
   },
   "file_extension": ".py",
   "mimetype": "text/x-python",
   "name": "python",
   "nbconvert_exporter": "python",
   "pygments_lexer": "ipython3",
   "version": "3.6.6"
  }
 },
 "nbformat": 4,
 "nbformat_minor": 2
}
