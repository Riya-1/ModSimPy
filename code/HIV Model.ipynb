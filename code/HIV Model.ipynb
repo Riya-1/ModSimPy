{
 "cells": [
  {
   "cell_type": "markdown",
   "metadata": {},
   "source": [
    "# HIV Model\n",
    "Riya, Dhara, Chris\n",
    "\n",
    "10-15-18\n",
    "\n",
    "State: uninfected cells, latent cells, active cells, viron cells\n",
    "\n",
    "System: rates\n",
    "\n",
    "Parameters: initial number of infected cells"
   ]
  },
  {
   "cell_type": "code",
   "execution_count": null,
   "metadata": {},
   "outputs": [],
   "source": [
    "# Configure Jupyter so figures appear in the notebook\n",
    "%matplotlib inline\n",
    "\n",
    "# Configure Jupyter to display the assigned value after an assignment\n",
    "%config InteractiveShell.ast_node_interactivity='last_expr_or_assign'\n",
    "\n",
    "# import functions from the modsim.py module\n",
    "from modsim import *\n"
   ]
  },
  {
   "cell_type": "markdown",
   "metadata": {},
   "source": [
    "### Define State for the initial condition\n",
    "- Uninfected Cells, Latent Cells, Active Cells, Viron Cells"
   ]
  },
  {
   "cell_type": "code",
   "execution_count": null,
   "metadata": {},
   "outputs": [],
   "source": [
    "init = State(uninf = 1000, lat = 0, act = 0, vir = 100)"
   ]
  },
  {
   "cell_type": "markdown",
   "metadata": {},
   "source": [
    "### Define System (Rates)"
   ]
  },
  {
   "cell_type": "code",
   "execution_count": null,
   "metadata": {},
   "outputs": [],
   "source": [
    "gammat = 1.36*0.2 # Tau * Gamma\n",
    "\n",
    "system = System ( gammat = gammat, \n",
    "                  sigma = 2, \n",
    "                  beta = 0.00027, \n",
    "                  alpha = 0.036, \n",
    "                  mu = .00136, \n",
    "                  pi = 100, \n",
    "                  delta = 0.33,\n",
    "                  rho = 0.1,\n",
    "                  t0 = 0, \n",
    "                  t_end = 1200)"
   ]
  },
  {
   "cell_type": "markdown",
   "metadata": {},
   "source": [
    "## Update Function"
   ]
  },
  {
   "cell_type": "code",
   "execution_count": null,
   "metadata": {},
   "outputs": [],
   "source": [
    "def update_func2(state, t, system): \n",
    "    \n",
    "    \n",
    "    #FLOW IN\n",
    "    uninf = system.gammat*state.uninf\n",
    "    lat = system.betaV*state.vir * state.uninf * system.rho\n",
    "    act1 = system.alpha*state.lat\n",
    "    act2 = system.delta*state.uninf\n",
    "    act = act1+act2\n",
    "    vir = system.pi*state.act\n",
    "    \n",
    "    #FLOW OUT\n",
    "    uninf -= system.mu*uninf\n",
    "    lat1 = system.alpha*lat\n",
    "    lat2 = system.mu*lat1\n",
    "    act -= system.delta*act\n",
    "    vir -= system.sigma*vir\n",
    "    \n",
    "    return State(uninf = uninf, lat = lat2, act = act, vir = vir)"
   ]
  },
  {
   "cell_type": "code",
   "execution_count": null,
   "metadata": {},
   "outputs": [],
   "source": [
    "def update_func(state, t, system): \n",
    "    unpack(system)\n",
    "    R = state.uninf;\n",
    "    L = state.lat;\n",
    "    E = state.act;\n",
    "    V = state.vir;\n",
    "    dt = 0.01\n",
    "    \n",
    "    rChange = (gammat - mu * R - beta * V * R) * dt\n",
    "    lChange = (rho * beta * V * R - mu * L - alpha * L) * dt\n",
    "    eChange = ((1 - rho) * beta * V * R + alpha * L - delta * E) * dt\n",
    "    vChange = (pi * E - sigma * V) * dt\n",
    "    \n",
    "    return State(uninf = rChange, lat = lChange, act = eChange, vir = vChange)"
   ]
  },
  {
   "cell_type": "markdown",
   "metadata": {},
   "source": [
    "## Run Simulation"
   ]
  },
  {
   "cell_type": "code",
   "execution_count": null,
   "metadata": {},
   "outputs": [],
   "source": [
    "def run_simulation(system, update_func, init):\n",
    "    unpack(system)\n",
    "    \n",
    "    frame = TimeFrame(columns=init.index)\n",
    "    frame.row[t0] = init\n",
    "    \n",
    "    for t in linrange(t0, t_end, .01):\n",
    "        frame.row[t+.01] = update_func(frame.row[t], t, system)\n",
    "    \n",
    "    return frame"
   ]
  },
  {
   "cell_type": "markdown",
   "metadata": {},
   "source": [
    "## Plot Results"
   ]
  },
  {
   "cell_type": "code",
   "execution_count": null,
   "metadata": {},
   "outputs": [],
   "source": [
    "def plot_results(uinf, lat, act, vir):\n",
    "    plot(uinf, '--', label='Uninfected Cells')\n",
    "    plot(lat, '-', label='Latent Cells')\n",
    "    plot(act, '--', label='Uninfected Cells')\n",
    "    plot(vir, '-', label='Virons')\n",
    "    decorate(xlabel='Time (days)',\n",
    "             ylabel='Fraction of Population')"
   ]
  },
  {
   "cell_type": "code",
   "execution_count": null,
   "metadata": {},
   "outputs": [],
   "source": [
    "results = run_simulation(system, update_func, init)\n",
    "plot_results(results.uninf, results.lat, results.act, results.vir )"
   ]
  },
  {
   "cell_type": "code",
   "execution_count": null,
   "metadata": {},
   "outputs": [],
   "source": [
    "plot(results.vir)"
   ]
  },
  {
   "cell_type": "code",
   "execution_count": null,
   "metadata": {},
   "outputs": [],
   "source": []
  },
  {
   "cell_type": "code",
   "execution_count": null,
   "metadata": {},
   "outputs": [],
   "source": []
  }
 ],
 "metadata": {
  "kernelspec": {
   "display_name": "Python 3",
   "language": "python",
   "name": "python3"
  },
  "language_info": {
   "codemirror_mode": {
    "name": "ipython",
    "version": 3
   },
   "file_extension": ".py",
   "mimetype": "text/x-python",
   "name": "python",
   "nbconvert_exporter": "python",
   "pygments_lexer": "ipython3",
   "version": "3.6.6"
  }
 },
 "nbformat": 4,
 "nbformat_minor": 2
}
